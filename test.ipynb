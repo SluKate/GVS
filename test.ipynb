{
  "nbformat": 4,
  "nbformat_minor": 0,
  "metadata": {
    "colab": {
      "provenance": [],
      "gpuType": "T4"
    },
    "kernelspec": {
      "name": "python3",
      "display_name": "Python 3"
    },
    "language_info": {
      "name": "python"
    },
    "accelerator": "GPU"
  },
  "cells": [
    {
      "cell_type": "code",
      "execution_count": 43,
      "metadata": {
        "colab": {
          "base_uri": "https://localhost:8080/"
        },
        "id": "jmAGBQlONWi2",
        "outputId": "390f62f6-6ded-4f17-f04f-96fb3d14a375"
      },
      "outputs": [
        {
          "output_type": "stream",
          "name": "stdout",
          "text": [
            "Cloning into 'GVS'...\n",
            "remote: Enumerating objects: 241, done.\u001b[K\n",
            "remote: Counting objects: 100% (27/27), done.\u001b[K\n",
            "remote: Compressing objects: 100% (27/27), done.\u001b[K\n",
            "remote: Total 241 (delta 10), reused 0 (delta 0), pack-reused 214 (from 1)\u001b[K\n",
            "Receiving objects: 100% (241/241), 2.42 MiB | 3.43 MiB/s, done.\n",
            "Resolving deltas: 100% (80/80), done.\n",
            "/content/GVS/Lab1_CUDA/Lab1_CUDA/GVS/Lab1_CUDA/Lab1_CUDA/GVS/Lab1_CUDA/Lab1_CUDA/GVS/Lab1_CUDA/Lab1_CUDA/GVS/Lab1_CUDA/Lab1_CUDA/GVS\n",
            "\u001b[0m\u001b[01;34mGVS-CPU\u001b[0m/  \u001b[01;34mLab1_CUDA\u001b[0m/  README.md\n"
          ]
        }
      ],
      "source": [
        "# Клонируем репозиторий\n",
        "!git clone https://github.com/SluKate/GVS.git\n",
        "\n",
        "# Переходим в директорию с кодом\n",
        "%cd GVS/\n",
        "\n",
        "%ls\n"
      ]
    },
    {
      "cell_type": "code",
      "source": [
        "%cd GVS-CPU/\n",
        "\n",
        "%ls\n",
        "%cd GVS-CPU/\n",
        "\n",
        "%ls\n",
        "\n",
        "# Компилируем C++ программу (замените на имя вашего файла)\n",
        "!g++ GVS-CPU.cpp -o program\n",
        "\n",
        "# Запускаем программу и сохраняем вывод\n",
        "output_CPU = !./program\n",
        "\n",
        "print(output)\n"
      ],
      "metadata": {
        "colab": {
          "base_uri": "https://localhost:8080/"
        },
        "id": "Nv2-Up6GOpHY",
        "outputId": "d3d7f211-863d-4971-d2f2-e575a4a47f50"
      },
      "execution_count": 44,
      "outputs": [
        {
          "output_type": "stream",
          "name": "stdout",
          "text": [
            "/content/GVS/Lab1_CUDA/Lab1_CUDA/GVS/Lab1_CUDA/Lab1_CUDA/GVS/Lab1_CUDA/Lab1_CUDA/GVS/Lab1_CUDA/Lab1_CUDA/GVS/Lab1_CUDA/Lab1_CUDA/GVS/GVS-CPU\n",
            "\u001b[0m\u001b[01;34mGVS-CPU\u001b[0m/  GVS-CPU.sln\n",
            "/content/GVS/Lab1_CUDA/Lab1_CUDA/GVS/Lab1_CUDA/Lab1_CUDA/GVS/Lab1_CUDA/Lab1_CUDA/GVS/Lab1_CUDA/Lab1_CUDA/GVS/Lab1_CUDA/Lab1_CUDA/GVS/GVS-CPU/GVS-CPU\n",
            "GVS-CPU.cpp  GVS-CPU.vcxproj  GVS-CPU.vcxproj.filters  v1.txt  v2.txt\n",
            "['Время выполнения: 143.56 мс', 'Скалярное произведение: 623449']\n"
          ]
        }
      ]
    },
    {
      "cell_type": "code",
      "source": [
        "!apt-get install -y nvidia-cuda-toolkit"
      ],
      "metadata": {
        "colab": {
          "base_uri": "https://localhost:8080/"
        },
        "id": "Y1eTJDvnRYH6",
        "outputId": "571e992b-dd59-4f27-c0aa-9c9e05a1f51e"
      },
      "execution_count": 45,
      "outputs": [
        {
          "output_type": "stream",
          "name": "stdout",
          "text": [
            "Reading package lists... Done\n",
            "Building dependency tree... Done\n",
            "Reading state information... Done\n",
            "nvidia-cuda-toolkit is already the newest version (11.5.1-1ubuntu1).\n",
            "0 upgraded, 0 newly installed, 0 to remove and 49 not upgraded.\n"
          ]
        }
      ]
    },
    {
      "cell_type": "code",
      "source": [
        "%cd ../../\n",
        "%ls\n",
        "%cd Lab1_CUDA/\n",
        "%ls\n",
        "%cd Lab1_CUDA/\n",
        "%ls\n",
        "\n",
        "# Компилируем C++ программу (замените на имя вашего файла)\n",
        "!nvcc kernel.cu -o  lab1_cuda\n",
        "\n",
        "# Запускаем программу и сохраняем вывод\n",
        "output_GPU = !./lab1_cuda\n",
        "\n",
        "print(output_GPU)"
      ],
      "metadata": {
        "colab": {
          "base_uri": "https://localhost:8080/"
        },
        "id": "2n3z8rhDOvaW",
        "outputId": "1840f1ec-3a89-423e-9c98-9c833830c055"
      },
      "execution_count": 46,
      "outputs": [
        {
          "output_type": "stream",
          "name": "stdout",
          "text": [
            "/content/GVS/Lab1_CUDA/Lab1_CUDA/GVS/Lab1_CUDA/Lab1_CUDA/GVS/Lab1_CUDA/Lab1_CUDA/GVS/Lab1_CUDA/Lab1_CUDA/GVS/Lab1_CUDA/Lab1_CUDA/GVS\n",
            "\u001b[0m\u001b[01;34mGVS-CPU\u001b[0m/  \u001b[01;34mLab1_CUDA\u001b[0m/  README.md\n",
            "/content/GVS/Lab1_CUDA/Lab1_CUDA/GVS/Lab1_CUDA/Lab1_CUDA/GVS/Lab1_CUDA/Lab1_CUDA/GVS/Lab1_CUDA/Lab1_CUDA/GVS/Lab1_CUDA/Lab1_CUDA/GVS/Lab1_CUDA\n",
            "\u001b[0m\u001b[01;34mLab1_CUDA\u001b[0m/  Lab1_CUDA.sln  \u001b[01;34mx64\u001b[0m/\n",
            "/content/GVS/Lab1_CUDA/Lab1_CUDA/GVS/Lab1_CUDA/Lab1_CUDA/GVS/Lab1_CUDA/Lab1_CUDA/GVS/Lab1_CUDA/Lab1_CUDA/GVS/Lab1_CUDA/Lab1_CUDA/GVS/Lab1_CUDA/Lab1_CUDA\n",
            "kernel.cu  Lab1_CUDA.vcxproj  Lab1_CUDA.vcxproj.user  v1.txt  v2.txt  \u001b[0m\u001b[01;34mx64\u001b[0m/  Тест1.txt  Тест2.txt\n",
            "['Время выполнения: 0.242176 мс', 'Скалярное произведение: 623449']\n"
          ]
        }
      ]
    },
    {
      "cell_type": "code",
      "source": [
        "#Переводим всё в мс\n",
        "def convert_to_ms(time_str):\n",
        "    # Разбиваем строку на время и ед. изм.\n",
        "    time_value, unit = time_str.split()\n",
        "\n",
        "    # Преобразуем время в число\n",
        "    time_value = float(time_value)\n",
        "\n",
        "    # Определяем единицу измерения и переводим в миллисекунды\n",
        "    if unit == \"мс\":\n",
        "        return time_value\n",
        "    elif unit == \"нс\":\n",
        "        return time_value / 1_000_000  # переводим в миллисекунды\n",
        "    else:\n",
        "        raise ValueError(\"Неизвестная единица измерения.\")\n",
        "\n",
        "\n",
        "time_GPU = convert_to_ms(output_GPU[0].replace('Время выполнения: ', ''))\n",
        "time_CPU = convert_to_ms(output_CPU[0].replace('Время выполнения: ', ''))\n"
      ],
      "metadata": {
        "id": "0h7vQ296OvkU"
      },
      "execution_count": 47,
      "outputs": []
    },
    {
      "cell_type": "code",
      "source": [
        "# Проверяем вывод\n",
        "print('Время выполнения программы GPU:', time_GPU, \"мс, а\", output_GPU[1])\n",
        "print('Время выполнения программы CPU:', time_CPU, \"мс, а\", output_CPU[1])\n",
        "\n",
        "def getResult(res):\n",
        "  return float(res.replace('Скалярное произведение: ', ''))\n",
        "\n",
        "result_GPU = getResult(output_GPU[1])\n",
        "result_CPU = getResult(output_CPU[1])"
      ],
      "metadata": {
        "colab": {
          "base_uri": "https://localhost:8080/"
        },
        "id": "ax7xRJzWZJx5",
        "outputId": "d34bfc92-a54b-474a-da40-c872999b351c"
      },
      "execution_count": 52,
      "outputs": [
        {
          "output_type": "stream",
          "name": "stdout",
          "text": [
            "Время выполнения программы GPU: 0.242176 мс, а Скалярное произведение: 623449\n",
            "Время выполнения программы CPU: 0.008292 мс, а Скалярное произведение: 623448\n"
          ]
        }
      ]
    },
    {
      "cell_type": "code",
      "source": [
        "# Вывод\n",
        "print('Разница во времени: ', abs(time_GPU - time_CPU), \"мс, а погрешность составляет: \", abs(result_GPU - result_CPU))"
      ],
      "metadata": {
        "colab": {
          "base_uri": "https://localhost:8080/"
        },
        "id": "4oANncuBZoVd",
        "outputId": "1ec26627-bcae-4ee8-977f-57bbdf65f2ec"
      },
      "execution_count": 53,
      "outputs": [
        {
          "output_type": "stream",
          "name": "stdout",
          "text": [
            "Разница во времени:  0.233884 мс, а погрешность составляет:  1.0\n"
          ]
        }
      ]
    }
  ]
}
